{
 "cells": [
  {
   "cell_type": "code",
   "execution_count": null,
   "metadata": {},
   "outputs": [],
   "source": [
    "import pandas as pd\n",
    "import optuna\n",
    "import matplotlib.pyplot as plt\n",
    "\n",
    "from calibrate import read_data, calc_multi_error\n",
    "from plot import to_df, get_pareto_front, get_contour_plot, get_parallel_coordinate_plot\n",
    "\n",
    "%matplotlib inline"
   ]
  },
  {
   "cell_type": "code",
   "execution_count": null,
   "metadata": {},
   "outputs": [],
   "source": [
    "storage = \"sqlite:///calibration.db\"\n",
    "print(\"Studies:\")\n",
    "for s in optuna.study.get_all_study_summaries(storage):\n",
    "    print(s.study_name, s.datetime_start, s.n_trials, \"trials\")"
   ]
  },
  {
   "cell_type": "code",
   "execution_count": null,
   "metadata": {},
   "outputs": [],
   "source": [
    "study = optuna.multi_objective.load_study(\"multi\", storage)"
   ]
  },
  {
   "cell_type": "code",
   "execution_count": null,
   "metadata": {},
   "outputs": [],
   "source": [
    "unc = optuna.load_study(\"unconstrained\", storage)\n",
    "uf = to_df(unc)\n",
    "print(uf.loc[uf.value.idxmin()])\n",
    "optuna.visualization.plot_parallel_coordinate(unc)"
   ]
  },
  {
   "cell_type": "code",
   "execution_count": null,
   "metadata": {},
   "outputs": [],
   "source": [
    "tf, fig = get_pareto_front(study, hover=[\"alpha\", \"ciCorrection\"], color=\"dz\")\n",
    "fig.show()"
   ]
  },
  {
   "cell_type": "code",
   "execution_count": null,
   "metadata": {},
   "outputs": [],
   "source": [
    "number = 221\n",
    "\n",
    "start=\"2020-03-01\"\n",
    "end=\"2020-06-01\"\n",
    "f = \"output-calibration/%d/infections.txt\" % number\n",
    "cmp = \"output-compare/infections.txt\"\n",
    "\n",
    "df, hospital, rki = read_data(f, \"Berlin\", \"berlin-hospital.csv\", \"berlin-cases.csv\")\n",
    "\n",
    "cmp_res = calc_multi_error(cmp, \"Berlin\", start, end)\n",
    "cmp, _, _ = read_data(cmp, \"Berlin\", \"berlin-hospital.csv\", \"berlin-cases.csv\")\n",
    "\n",
    "df = df[(df.date >= start) & (df.date <= end)]\n",
    "hospital = hospital[(hospital.Datum >= start) & (hospital.Datum <= end)]\n",
    "rki = rki[(rki.date >= start) & (rki.date <= end)]\n",
    "\n",
    "print(cmp_res)\n",
    "tf[tf.number == number]"
   ]
  },
  {
   "cell_type": "code",
   "execution_count": null,
   "metadata": {
    "pycharm": {
     "name": "#%%\n"
    }
   },
   "outputs": [],
   "source": [
    "ax = df.plot.scatter(x=\"date\", y=[\"cases\"], label=[\"Auto Calibrated\"], logy=True, figsize=(16, 8))\n",
    "cmp.plot.scatter(x=\"date\", y=[\"cases\"], color=\"green\", label=[\"Manual\"], ax=ax)\n",
    "rki.plot.scatter(x=\"date\", y=[\"cases\"], color=\"orange\", label=[\"RKI Cases\"], ax=ax)\n",
    "plt.title(\"Cases\")"
   ]
  },
  {
   "cell_type": "code",
   "execution_count": null,
   "metadata": {
    "pycharm": {
     "name": "#%%\n"
    }
   },
   "outputs": [],
   "source": [
    "ax = df.plot(x=\"date\", y=[\"casesSmoothed\"], label=[\"Auto calibrated\"], logy=True, figsize=(16, 8))\n",
    "rki.plot(x=\"date\", y=[\"casesSmoothed\"], label=[\"RKI cases\"], ax=ax)\n",
    "cmp.plot(x=\"date\", y=[\"casesSmoothed\"], label=[\"Manual\"], ax=ax)\n",
    "plt.title(\"Smoothed cases\")"
   ]
  },
  {
   "cell_type": "code",
   "execution_count": null,
   "metadata": {},
   "outputs": [],
   "source": [
    "ax = df.plot(x=\"date\", y=[\"nSeriouslySick\", \"nCritical\"], logy=True, figsize=(16, 8))\n",
    "hospital.plot(x=\"Datum\", y=[\"Stationäre Behandlung\", \"Intensivmedizin\"], logy=True, ax=ax)\n",
    "\n",
    "plt.title(\"Hospitalization\")"
   ]
  },
  {
   "cell_type": "code",
   "execution_count": null,
   "metadata": {},
   "outputs": [],
   "source": [
    "get_parallel_coordinate_plot(study)"
   ]
  },
  {
   "cell_type": "code",
   "execution_count": null,
   "metadata": {},
   "outputs": [],
   "source": [
    "get_contour_plot(study, \"alpha\", \"ciCorrection\")"
   ]
  },
  {
   "cell_type": "code",
   "execution_count": null,
   "metadata": {},
   "outputs": [],
   "source": []
  }
 ],
 "metadata": {
  "kernelspec": {
   "display_name": "Python 3",
   "language": "python",
   "name": "python3"
  },
  "language_info": {
   "codemirror_mode": {
    "name": "ipython",
    "version": 3
   },
   "file_extension": ".py",
   "mimetype": "text/x-python",
   "name": "python",
   "nbconvert_exporter": "python",
   "pygments_lexer": "ipython3",
   "version": "3.7.4"
  }
 },
 "nbformat": 4,
 "nbformat_minor": 2
}
